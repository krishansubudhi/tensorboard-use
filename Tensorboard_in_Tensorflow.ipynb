{
 "cells": [
  {
   "cell_type": "code",
   "execution_count": 1,
   "metadata": {},
   "outputs": [],
   "source": [
    "# https://www.tensorflow.org/install/pip\n",
    "# !pip install tensorboard\n",
    "# !pip install tensorflow-cpu"
   ]
  },
  {
   "cell_type": "code",
   "execution_count": 2,
   "metadata": {},
   "outputs": [],
   "source": [
    "# Load the TensorBoard notebook extension\n",
    "%load_ext tensorboard"
   ]
  },
  {
   "cell_type": "code",
   "execution_count": 3,
   "metadata": {},
   "outputs": [],
   "source": [
    "import tensorflow as tf\n",
    "import datetime"
   ]
  },
  {
   "cell_type": "code",
   "execution_count": 4,
   "metadata": {},
   "outputs": [
    {
     "name": "stdout",
     "output_type": "stream",
     "text": [
      "logs\\fit\\20200323-192702\n",
      "\n",
      "\n",
      "    Directory: C:\\Users\\krkusuk\\projects\\tensorboard\\logs\\fit\n",
      "\n",
      "\n",
      "Mode                LastWriteTime         Length Name                          \n",
      "----                -------------         ------ ----                          \n",
      "d-----        3/23/2020   7:27 PM                20200323-192702               \n",
      "\n",
      "\n"
     ]
    }
   ],
   "source": [
    "import os \n",
    "log_dir = os.path.join('logs','fit', datetime.datetime.now().strftime('%Y%m%d-%H%M%S'))\n",
    "print(log_dir)\n",
    "\n",
    "\n",
    "!powershell rm -Force -R logs\n",
    "\n",
    "\n",
    "os.makedirs(log_dir, exist_ok=True)\n",
    "!powershell dir logs\\fit"
   ]
  },
  {
   "cell_type": "code",
   "execution_count": 5,
   "metadata": {},
   "outputs": [],
   "source": [
    "mnist = tf.keras.datasets.mnist\n",
    "\n",
    "(x_train,y_train),(x_test,y_test) = mnist.load_data()\n",
    "x_train, x_test = x_train/255.0, x_test/255.0\n",
    "\n",
    "def create_model():\n",
    "    return tf.keras.Sequential([\n",
    "        tf.keras.layers.Flatten(input_shape = (28,28)),\n",
    "        tf.keras.layers.Dense(512, activation='relu'),\n",
    "        tf.keras.layers.Dropout(0.2),\n",
    "        tf.keras.layers.Dense(10,activation='softmax')\n",
    "    ])"
   ]
  },
  {
   "cell_type": "code",
   "execution_count": 6,
   "metadata": {
    "scrolled": true
   },
   "outputs": [
    {
     "name": "stdout",
     "output_type": "stream",
     "text": [
      "logs\\fit\\20200323-192702\n",
      "Train on 60000 samples, validate on 10000 samples\n",
      "Epoch 1/5\n",
      "60000/60000 [==============================] - 17s 285us/sample - loss: 0.2205 - accuracy: 0.9350 - val_loss: 0.1192 - val_accuracy: 0.9634\n",
      "Epoch 2/5\n",
      "60000/60000 [==============================] - 16s 272us/sample - loss: 0.0975 - accuracy: 0.9704 - val_loss: 0.0766 - val_accuracy: 0.9756\n",
      "Epoch 3/5\n",
      "60000/60000 [==============================] - 16s 268us/sample - loss: 0.0693 - accuracy: 0.9784 - val_loss: 0.0724 - val_accuracy: 0.9796\n",
      "Epoch 4/5\n",
      "60000/60000 [==============================] - 16s 270us/sample - loss: 0.0541 - accuracy: 0.9832 - val_loss: 0.0684 - val_accuracy: 0.9783\n",
      "Epoch 5/5\n",
      "60000/60000 [==============================] - 16s 264us/sample - loss: 0.0433 - accuracy: 0.9855 - val_loss: 0.0664 - val_accuracy: 0.9799\n"
     ]
    },
    {
     "data": {
      "text/plain": [
       "<tensorflow.python.keras.callbacks.History at 0x25143f06d88>"
      ]
     },
     "execution_count": 6,
     "metadata": {},
     "output_type": "execute_result"
    }
   ],
   "source": [
    "model = create_model()\n",
    "model.compile(optimizer = 'adam', \n",
    "              loss = 'sparse_categorical_crossentropy',\n",
    "              metrics = ['accuracy'])\n",
    "print(log_dir)\n",
    "tensorboard_callback = tf.keras.callbacks.TensorBoard(log_dir = log_dir, histogram_freq = 1)\n",
    "\n",
    "model.fit(x = x_train,\n",
    "         y = y_train,\n",
    "         epochs = 5,\n",
    "         validation_data = (x_test,y_test),\n",
    "         callbacks = [tensorboard_callback])"
   ]
  },
  {
   "cell_type": "markdown",
   "metadata": {},
   "source": [
    "# Start tensorboard"
   ]
  },
  {
   "cell_type": "markdown",
   "metadata": {
    "scrolled": true
   },
   "source": [
    "## Issues and resolution\n",
    "Observed that once tensorflow goes into a bad state, it throws problem everytime afterwards because \n",
    "\n",
    "1. It does not kill previous processes automatically\n",
    "2. It uses previous states while starting the dashboard\n",
    "\n",
    "Steps to mitigate the bad state:\n",
    "\n",
    "1. kill all running tensorboard processes.\n",
    "2. Clear previous tensorboard state.\n",
    "\n",
    "\n",
    "\n",
    "If it times out in jupyter, then go to http://localhost:6006 in the browser and check"
   ]
  },
  {
   "cell_type": "code",
   "execution_count": 13,
   "metadata": {},
   "outputs": [
    {
     "name": "stdout",
     "output_type": "stream",
     "text": [
      "checking for existing tensorboard processes\n",
      "\n",
      "Handles  NPM(K)    PM(K)      WS(K)     CPU(s)     Id  SI ProcessName          \n",
      "-------  ------    -----      -----     ------     --  -- -----------          \n",
      "     87       6      944       4060       0.03   1112   1 tensorboard          \n",
      "\n",
      "\n",
      "cleaning tensorboard temp dir\n"
     ]
    },
    {
     "data": {
      "text/plain": [
       "ERROR: Timed out waiting for TensorBoard to start. It may still be running as pid 6284."
      ]
     },
     "metadata": {},
     "output_type": "display_data"
    },
    {
     "name": "stdout",
     "output_type": "stream",
     "text": [
      "If it has timed out in jupyter, then go to http://localhost:6006 in the browser and check\n"
     ]
    }
   ],
   "source": [
    "! powershell \"echo 'checking for existing tensorboard processes'\"\n",
    "! powershell \"ps | Where-Object {$_.ProcessName -eq 'tensorboard'}\"\n",
    "\n",
    "! powershell \"ps | Where-Object {$_.ProcessName -eq 'tensorboard'}| %{kill $_}\"\n",
    "\n",
    "! powershell \"echo 'cleaning tensorboard temp dir'\"\n",
    "! powershell \"rm $env:TEMP\\.tensorboard-info\\*\"\n",
    "\n",
    "! powershell \"ps | Where-Object {$_.ProcessName -eq 'tensorboard'}\"\n",
    "\n",
    "\n",
    "%tensorboard --logdir=\"logs\\fit\" --host localhost #quotes are important in windows\n",
    "\n",
    "\n",
    "! echo If it has timed out in jupyter, then go to http://localhost:6006 in the browser and check"
   ]
  },
  {
   "cell_type": "markdown",
   "metadata": {},
   "source": [
    "#### From tensorboard documentations:\n",
    "\n",
    "A brief overview of the dashboards shown (tabs in top navigation bar):\n",
    "\n",
    "1. The Scalars dashboard shows how the loss and metrics change with every epoch. You can use it to also track training speed, learning rate, and other scalar values.\n",
    "2. The Graphs dashboard helps you visualize your model. In this case, the Keras graph of layers is shown which can help you ensure it is built correctly.\n",
    "3. The Distributions and Histograms dashboards show the distribution of a Tensor over time. This can be useful to visualize weights and biases and verify that they are changing in an expected way.\n",
    "\n",
    "Additional TensorBoard plugins are automatically enabled when you log other types of data. For example, the Keras TensorBoard callback lets you log images and embeddings as well. You can see what other plugins are available in TensorBoard by clicking on the \"inactive\" dropdown towards the top right."
   ]
  },
  {
   "cell_type": "markdown",
   "metadata": {},
   "source": [
    "## References:\n",
    "\n",
    "1. Tensorboard quickstart\n",
    "\n",
    "https://www.tensorflow.org/tensorboard/get_started\n",
    "\n",
    "2. No dashboard active error:\n",
    "\n",
    "https://stackoverflow.com/questions/47113472/tensorboard-error-no-dashboards-are-active-for-current-data-set\n",
    "\n",
    "\n",
    "2. [Windows] tensorboard - needs to be started from same drive as logdir \n",
    "\n",
    "https://github.com/tensorflow/tensorflow/issues/7856\n",
    "\n",
    "3. localhost refused to connect.\n",
    "\n",
    "https://github.com/tensorflow/tensorboard/issues/2481\n"
   ]
  },
  {
   "cell_type": "code",
   "execution_count": null,
   "metadata": {},
   "outputs": [],
   "source": []
  }
 ],
 "metadata": {
  "kernelspec": {
   "display_name": "Python 3",
   "language": "python",
   "name": "python3"
  },
  "language_info": {
   "codemirror_mode": {
    "name": "ipython",
    "version": 3
   },
   "file_extension": ".py",
   "mimetype": "text/x-python",
   "name": "python",
   "nbconvert_exporter": "python",
   "pygments_lexer": "ipython3",
   "version": "3.7.6"
  }
 },
 "nbformat": 4,
 "nbformat_minor": 4
}
