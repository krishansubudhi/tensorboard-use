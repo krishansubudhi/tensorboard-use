{
 "cells": [
  {
   "cell_type": "markdown",
   "metadata": {},
   "source": [
    "[Tensorboard pytorch tutorial](https://krishansubudhi.github.io/deeplearning/2020/03/24/tensorboard-pytorch.html)"
   ]
  },
  {
   "cell_type": "markdown",
   "metadata": {},
   "source": [
    "Clear everything first "
   ]
  },
  {
   "cell_type": "code",
   "execution_count": 19,
   "metadata": {},
   "outputs": [
    {
     "name": "stdout",
     "output_type": "stream",
     "text": [
      "checking for existing tensorboard processes\n",
      "cleaning tensorboard temp dir\n"
     ]
    }
   ],
   "source": [
    "! powershell \"echo 'checking for existing tensorboard processes'\"\n",
    "! powershell \"ps | Where-Object {$_.ProcessName -eq 'tensorboard'}\"\n",
    "\n",
    "! powershell \"ps | Where-Object {$_.ProcessName -eq 'tensorboard'}| %{kill $_}\"\n",
    "\n",
    "! powershell \"echo 'cleaning tensorboard temp dir'\"\n",
    "! powershell \"rm -Force -Recurse $env:TEMP\\.tensorboard-info\\*\" \n",
    "\n",
    "! powershell \"ps | Where-Object {$_.ProcessName -eq 'tensorboard'}\"\n",
    "! powershell \"rm -Force -Recurse runs\\*\""
   ]
  },
  {
   "cell_type": "markdown",
   "metadata": {},
   "source": [
    "# Create Summary writer"
   ]
  },
  {
   "cell_type": "code",
   "execution_count": 20,
   "metadata": {},
   "outputs": [],
   "source": [
    "from torch.utils.tensorboard import SummaryWriter\n",
    "# Writer will output to ./runs/ directory by default\n",
    "writer = SummaryWriter('runs/tensorboard_bert')"
   ]
  },
  {
   "cell_type": "markdown",
   "metadata": {},
   "source": [
    "# Load bert model"
   ]
  },
  {
   "cell_type": "code",
   "execution_count": 21,
   "metadata": {},
   "outputs": [],
   "source": [
    "import transformers, torch\n",
    "from transformers import BertForMaskedLM, BertTokenizer\n",
    "model = BertForMaskedLM.from_pretrained('bert-base-uncased')\n",
    "tokenizer = BertTokenizer.from_pretrained('bert-base-uncased')"
   ]
  },
  {
   "cell_type": "code",
   "execution_count": 22,
   "metadata": {},
   "outputs": [],
   "source": [
    "#text = \"I am using tensorboard in pytorch. I am trying tensorboard to visualize BERT model.\"\n",
    "def get_tensors(text):\n",
    "    tokens = tokenizer.tokenize(text)\n",
    "    tokens.insert(0, tokenizer.cls_token)\n",
    "    tokens.append(tokenizer.sep_token)\n",
    "\n",
    "    correct_tensors = torch.LongTensor(tokenizer.convert_tokens_to_ids(tokens)).unsqueeze(0)\n",
    "\n",
    "    import numpy as np\n",
    "    for _ in range(len(tokens)//5):\n",
    "        i = np.random.randint(1, len(tokens)-1)\n",
    "        tokens[i] = tokenizer.mask_token\n",
    "\n",
    "\n",
    "    tensors = torch.LongTensor(tokenizer.convert_tokens_to_ids(tokens)).unsqueeze(0)\n",
    "    #print(tokens)\n",
    "    return  tokens, tensors, correct_tensors\n",
    "#get_tensors(text)"
   ]
  },
  {
   "cell_type": "markdown",
   "metadata": {},
   "source": [
    "# Adding model graph and embeddings "
   ]
  },
  {
   "cell_type": "code",
   "execution_count": 23,
   "metadata": {},
   "outputs": [],
   "source": [
    "writer.add_graph(model, torch.ones(1,128, dtype = torch.long))"
   ]
  },
  {
   "cell_type": "markdown",
   "metadata": {},
   "source": [
    "# Adding scalars and histograms"
   ]
  },
  {
   "cell_type": "code",
   "execution_count": 29,
   "metadata": {},
   "outputs": [],
   "source": [
    "def log_grads(step,model):\n",
    "    for name,param in model.named_parameters():\n",
    "        if ('bert.encoder.layer' in name and 'bert.encoder.layer.12' not in name):\n",
    "            continue\n",
    "        flat_params =  param.view(-1).data.numpy()\n",
    "        writer.add_histogram('weight/'+name, flat_params, step)\n",
    "        if param.view(-1).grad:\n",
    "            flat_params =  param.view(-1).grad.numpy()\n",
    "            writer.add_histogram('grads/'+name, flat_params, step)\n",
    "        \n",
    "#log_grads(0,model)"
   ]
  },
  {
   "cell_type": "code",
   "execution_count": 33,
   "metadata": {},
   "outputs": [],
   "source": [
    "from torch.optim import adam\n",
    "optimizer = adam.Adam( model.parameters(),0.1)\n",
    "def run_step(step, model, tensors, correct_tensors):\n",
    "    \n",
    "    #forward\n",
    "    loss,prediction_scores =  model.forward(tensors, masked_lm_labels = correct_tensors)\n",
    "    \n",
    "    #scalars\n",
    "    preds = torch.argmax(prediction_scores, dim = -1)\n",
    "    acc = torch.sum(correct_tensors[:, 1:-1]==preds[:,1:-1]).item()/correct_tensors.size()[-1]\n",
    "    writer.add_scalar('Loss', loss.item(), step)\n",
    "    writer.add_scalar('Accuracy', acc, step)\n",
    "    \n",
    "    \n",
    "    #backwars\n",
    "    loss.backward()\n",
    "    log_grads(step, model)\n",
    "    \n",
    "    optimizer.step()\n",
    "    optimizer.zero_grad\n",
    "    \n",
    "    return preds"
   ]
  },
  {
   "cell_type": "code",
   "execution_count": 34,
   "metadata": {},
   "outputs": [
    {
     "name": "stdout",
     "output_type": "stream",
     "text": [
      "I am using tensorboard in pytorch. I am trying tensorboard to visualize BERT model.\n",
      "['[CLS]', 'i', 'am', '[MASK]', 'tensor', '##board', '[MASK]', '[MASK]', '##yt', '##or', '##ch', '.', 'i', 'am', '[MASK]', 'tensor', '##board', 'to', 'visual', '##ize', 'bert', 'model', '.', '[SEP]'] \n",
      "\n",
      "['.', 'i', 'am', 'the', 'tensor', '##board', 'for', 'w', '##yt', '##or', '##ch', '.', 'i', 'am', 'a', 'tensor', '##board', 'to', 'visual', '##ize', 'the', 'model', '.', '.']\n",
      "\n",
      "This is not scaling.\n",
      "['[CLS]', 'this', 'is', 'not', 'scaling', '[MASK]', '[SEP]'] \n",
      "\n",
      "['?', '?', '?', '?', '?', '?', '?']\n",
      "\n",
      "Working from home these days because of lockdown.\n",
      "['[CLS]', 'working', 'from', 'home', 'these', 'days', '[MASK]', 'of', 'lock', '[MASK]', '.', '[SEP]'] \n",
      "\n",
      "['awesome', 'awesome', 'awesome', 'awesome', 'awesome', 'awesome', 'awesome', 'awesome', 'awesome', 'awesome', 'awesome', 'awesome']\n",
      "\n",
      "Hidden cup 3 for age of empires is awesome\n",
      "['[CLS]', '[MASK]', 'cup', '3', 'for', 'age', '[MASK]', 'empires', 'is', 'awesome', '[SEP]'] \n",
      "\n",
      "['this', 'this', 'this', 'this', 'this', 'this', 'this', 'this', 'this', 'this', 'this']\n",
      "\n"
     ]
    }
   ],
   "source": [
    "texts = [\"I am using tensorboard in pytorch. I am trying tensorboard to visualize BERT model.\",\n",
    "       \"This is not scaling.\",\n",
    "       \"Working from home these days because of lockdown.\",\n",
    "       \"Hidden cup 3 for age of empires is awesome\"]\n",
    "for i,text in enumerate(texts):\n",
    "    print (text)\n",
    "    tokens, tensors, correct_tensors = get_tensors(text)\n",
    "    preds =  run_step(i, model, tensors, correct_tensors)\n",
    "    predicted_tokens = tokenizer.convert_ids_to_tokens(preds.squeeze().numpy())\n",
    "    print(tokens,'\\n')\n",
    "    print(predicted_tokens)\n",
    "    print()"
   ]
  },
  {
   "cell_type": "code",
   "execution_count": 35,
   "metadata": {},
   "outputs": [],
   "source": [
    "writer.flush()"
   ]
  },
  {
   "cell_type": "code",
   "execution_count": 28,
   "metadata": {},
   "outputs": [],
   "source": [
    "writer.close()"
   ]
  },
  {
   "cell_type": "code",
   "execution_count": null,
   "metadata": {},
   "outputs": [],
   "source": [
    "# Run in a new anaconda powershell\n",
    "\n",
    "# ! pwd\n",
    "# ! dir runs\n",
    "# ! tensorboard --logdir=\"C:\\Users\\krkusuk\\projects\\tensorboard\\runs\""
   ]
  }
 ],
 "metadata": {
  "kernelspec": {
   "display_name": "Python 3",
   "language": "python",
   "name": "python3"
  }
 },
 "nbformat": 4,
 "nbformat_minor": 4
}
