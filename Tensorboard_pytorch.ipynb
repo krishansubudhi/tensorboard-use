{
 "cells": [
  {
   "cell_type": "markdown",
   "metadata": {},
   "source": [
    "* Tensorboard pytorch tutorial : https://pytorch.org/docs/stable/tensorboard.html"
   ]
  },
  {
   "cell_type": "markdown",
   "metadata": {},
   "source": [
    "Clear everything first "
   ]
  },
  {
   "cell_type": "code",
   "execution_count": 1,
   "metadata": {},
   "outputs": [
    {
     "name": "stdout",
     "output_type": "stream",
     "text": [
      "checking for existing tensorboard processes\n",
      "cleaning tensorboard temp dir\n"
     ]
    }
   ],
   "source": [
    "! powershell \"echo 'checking for existing tensorboard processes'\"\n",
    "! powershell \"ps | Where-Object {$_.ProcessName -eq 'tensorboard'}\"\n",
    "\n",
    "! powershell \"ps | Where-Object {$_.ProcessName -eq 'tensorboard'}| %{kill $_}\"\n",
    "\n",
    "! powershell \"echo 'cleaning tensorboard temp dir'\"\n",
    "! powershell \"rm -Force -Recurse $env:TEMP\\.tensorboard-info\\*\" \n",
    "\n",
    "! powershell \"ps | Where-Object {$_.ProcessName -eq 'tensorboard'}\"\n",
    "! powershell \"rm -Force -Recurse runs\\*\""
   ]
  },
  {
   "cell_type": "markdown",
   "metadata": {},
   "source": [
    "# Create Summary writer"
   ]
  },
  {
   "cell_type": "code",
   "execution_count": 2,
   "metadata": {},
   "outputs": [],
   "source": [
    "from torch.utils.tensorboard import SummaryWriter\n",
    "# Writer will output to ./runs/ directory by default\n",
    "writer = SummaryWriter('runs/testing_tensorboard_pt')"
   ]
  },
  {
   "cell_type": "markdown",
   "metadata": {},
   "source": [
    "# Logging model graph and images "
   ]
  },
  {
   "cell_type": "code",
   "execution_count": 3,
   "metadata": {},
   "outputs": [],
   "source": [
    "import torch\n",
    "import torchvision\n",
    "from torchvision import datasets, transforms\n",
    "\n",
    "# Writer will output to ./runs/ directory by default\n",
    "\n",
    "transform = transforms.Compose([transforms.ToTensor(), transforms.Normalize((0.5,), (0.5,))])\n",
    "trainset = datasets.MNIST('mnist_train', train=True, download=True, transform=transform)\n",
    "trainloader = torch.utils.data.DataLoader(trainset, batch_size=64, shuffle=True)\n",
    "model = torchvision.models.resnet50(False)\n",
    "# Have ResNet model take in grayscale rather than RGB\n",
    "model.conv1 = torch.nn.Conv2d(1, 64, kernel_size=7, stride=2, padding=3, bias=False)\n",
    "images, labels = next(iter(trainloader))\n",
    "\n",
    "grid = torchvision.utils.make_grid(images)\n",
    "writer.add_image('images', grid, 0)\n",
    "writer.add_graph(model, images)\n",
    "writer.close()\n",
    "\n"
   ]
  },
  {
   "cell_type": "markdown",
   "metadata": {},
   "source": [
    "# Logging scalars ang grouping them"
   ]
  },
  {
   "cell_type": "code",
   "execution_count": 4,
   "metadata": {},
   "outputs": [],
   "source": [
    "from torch.utils.tensorboard import SummaryWriter\n",
    "import numpy as np\n",
    "\n",
    "#writer = SummaryWriter()\n",
    "\n",
    "for n_iter in range(100):\n",
    "    writer.add_scalar('Loss/train', np.random.random(),n_iter)\n",
    "    writer.add_scalar('Loss/test', np.random.random(),n_iter)\n",
    "    writer.add_scalar('Accuracy/train', np.random.random(),n_iter)\n",
    "    writer.add_scalar('Accuracy/test', np.random.random(),n_iter)"
   ]
  },
  {
   "cell_type": "markdown",
   "metadata": {},
   "source": [
    "# Run multiple scalars at once"
   ]
  },
  {
   "cell_type": "code",
   "execution_count": 6,
   "metadata": {},
   "outputs": [],
   "source": [
    "import math\n",
    "#writer = SummaryWriter(log_dir = 'runs/multi_scalar')\n",
    "\n",
    "for i,theta in enumerate(np.linspace(0, math.pi *2, 1000)):\n",
    "    stats = {'sine': math.sin(theta),\n",
    "            'cosine':math.cos(theta),\n",
    "            'tangent':math.tan(theta)}\n",
    "    writer.add_scalars('trignometry', stats, i )\n",
    "writer.close()"
   ]
  },
  {
   "cell_type": "markdown",
   "metadata": {},
   "source": [
    "# Add histogram"
   ]
  },
  {
   "cell_type": "code",
   "execution_count": 7,
   "metadata": {},
   "outputs": [],
   "source": [
    "#writer = SummaryWriter(log_dir = 'runs/histogram')\n",
    "for epoch in range(1,5):\n",
    "    for i in range(10):\n",
    "        writer.add_histogram('random_normal/epoch_'+str(epoch), torch.randn(1,1000)+i, i)\n",
    "        writer.add_histogram('random_uniform/epoch_'+str(epoch), torch.rand(1,1000)+i, i)\n",
    "    writer.close()"
   ]
  },
  {
   "cell_type": "markdown",
   "metadata": {},
   "source": [
    "# Add image"
   ]
  },
  {
   "cell_type": "code",
   "execution_count": 8,
   "metadata": {},
   "outputs": [],
   "source": [
    "#writer = SummaryWriter(log_dir = 'runs/images')\n",
    "for step in range (3):\n",
    "    # create a 100x100 random image and normalize\n",
    "    random_image = np.random.randint(10000,size = (1,10000)).reshape(100,100)\n",
    "    random_image = random_image/ 10000\n",
    "    \n",
    "    writer.add_image('random_image',\n",
    "                     random_image,\n",
    "                     step, \n",
    "                     dataformats = 'HW')\n",
    "writer.close()\n"
   ]
  },
  {
   "cell_type": "markdown",
   "metadata": {},
   "source": [
    "# Add Text"
   ]
  },
  {
   "cell_type": "code",
   "execution_count": 9,
   "metadata": {},
   "outputs": [],
   "source": [
    "#writer = SummaryWriter(log_dir = 'runs/text')\n",
    "writer.add_text('lstm', 'This is an lstm step 0', 0)\n",
    "writer.add_text('lstm', 'This is an rnn step 10', 10)\n",
    "writer.close()\n"
   ]
  },
  {
   "cell_type": "markdown",
   "metadata": {},
   "source": [
    "# Add hyper parameter"
   ]
  },
  {
   "cell_type": "code",
   "execution_count": 10,
   "metadata": {},
   "outputs": [],
   "source": [
    "\n",
    "for i in range(3):\n",
    "    exp = f'exp{i}'\n",
    "    with SummaryWriter('runs/'+exp) as w:\n",
    "        w.add_hparams({'lr': 0.1*i, 'bsize': i},\n",
    "                          {'hparam/accuracy': 10*i, 'hparam/loss': 10*i})"
   ]
  },
  {
   "cell_type": "code",
   "execution_count": null,
   "metadata": {},
   "outputs": [],
   "source": [
    "writer.flush()"
   ]
  },
  {
   "cell_type": "code",
   "execution_count": null,
   "metadata": {},
   "outputs": [],
   "source": [
    "# Run in a new anaconda powershell\n",
    "\n",
    "# ! pwd\n",
    "# ! dir runs\n",
    "# ! tensorboard --logdir=\"C:\\Users\\krkusuk\\projects\\tensorboard\\runs\""
   ]
  }
 ],
 "metadata": {
  "kernelspec": {
   "display_name": "Python 3",
   "language": "python",
   "name": "python3"
  },
  "language_info": {
   "codemirror_mode": {
    "name": "ipython",
    "version": 3
   },
   "file_extension": ".py",
   "mimetype": "text/x-python",
   "name": "python",
   "nbconvert_exporter": "python",
   "pygments_lexer": "ipython3",
   "version": "3.7.6"
  }
 },
 "nbformat": 4,
 "nbformat_minor": 4
}
